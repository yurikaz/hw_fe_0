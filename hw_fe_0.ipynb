{
 "cells": [
  {
   "cell_type": "code",
   "execution_count": 10,
   "metadata": {},
   "outputs": [],
   "source": [
    "import numpy as np\n",
    "import pandas as pd\n",
    "\n",
    "from sklearn.linear_model import LinearRegression"
   ]
  },
  {
   "cell_type": "code",
   "execution_count": 23,
   "metadata": {},
   "outputs": [
    {
     "data": {
      "text/html": [
       "<div>\n",
       "<style scoped>\n",
       "    .dataframe tbody tr th:only-of-type {\n",
       "        vertical-align: middle;\n",
       "    }\n",
       "\n",
       "    .dataframe tbody tr th {\n",
       "        vertical-align: top;\n",
       "    }\n",
       "\n",
       "    .dataframe thead th {\n",
       "        text-align: right;\n",
       "    }\n",
       "</style>\n",
       "<table border=\"1\" class=\"dataframe\">\n",
       "  <thead>\n",
       "    <tr style=\"text-align: right;\">\n",
       "      <th></th>\n",
       "      <th>weight_buyer</th>\n",
       "      <th>kg_tomato</th>\n",
       "      <th>price_tomato</th>\n",
       "      <th>tomato_budjet</th>\n",
       "    </tr>\n",
       "  </thead>\n",
       "  <tbody>\n",
       "    <tr>\n",
       "      <td>0</td>\n",
       "      <td>117</td>\n",
       "      <td>10</td>\n",
       "      <td>196</td>\n",
       "      <td>150920</td>\n",
       "    </tr>\n",
       "    <tr>\n",
       "      <td>1</td>\n",
       "      <td>139</td>\n",
       "      <td>6</td>\n",
       "      <td>160</td>\n",
       "      <td>73920</td>\n",
       "    </tr>\n",
       "    <tr>\n",
       "      <td>2</td>\n",
       "      <td>84</td>\n",
       "      <td>4</td>\n",
       "      <td>174</td>\n",
       "      <td>53592</td>\n",
       "    </tr>\n",
       "    <tr>\n",
       "      <td>3</td>\n",
       "      <td>126</td>\n",
       "      <td>7</td>\n",
       "      <td>172</td>\n",
       "      <td>92708</td>\n",
       "    </tr>\n",
       "    <tr>\n",
       "      <td>4</td>\n",
       "      <td>43</td>\n",
       "      <td>3</td>\n",
       "      <td>161</td>\n",
       "      <td>37191</td>\n",
       "    </tr>\n",
       "  </tbody>\n",
       "</table>\n",
       "</div>"
      ],
      "text/plain": [
       "   weight_buyer  kg_tomato  price_tomato  tomato_budjet\n",
       "0           117         10           196         150920\n",
       "1           139          6           160          73920\n",
       "2            84          4           174          53592\n",
       "3           126          7           172          92708\n",
       "4            43          3           161          37191"
      ]
     },
     "execution_count": 23,
     "metadata": {},
     "output_type": "execute_result"
    }
   ],
   "source": [
    "# Создаём сэмпл\n",
    "n_samples = 500\n",
    "\n",
    "weight_buyer = np.random.choice(150, n_samples) + 40\n",
    "kg_kgtomato = np.random.choice(10, n_samples) + 2\n",
    "price_tomato = np.random.choice(50, n_samples) + 150\n",
    "\n",
    "tomato_budjet = kg_tomato * price_tomato * 77\n",
    "\n",
    "data = pd.DataFrame({'weight_buyer': weight_buyer, 'kg_tomato': kg_tomato, 'price_tomato': price_tomato, 'tomato_budjet': tomato_budjet})\n",
    "data.head(5)"
   ]
  },
  {
   "cell_type": "markdown",
   "metadata": {},
   "source": [
    "Создаем набор данных, в котром зафиксированы люди с разным весом тела и какое количество в кг помидор и по какой цене они покупают в месяц в долларах США с фиксированным курсом 77 руб за доллар. \n",
    "Бюджет на помидоры складывается из закупленных помидор в месяц и цены."
   ]
  },
  {
   "cell_type": "code",
   "execution_count": 24,
   "metadata": {},
   "outputs": [
    {
     "name": "stdout",
     "output_type": "stream",
     "text": [
      "Weights: [-6.41629709e+00  1.34009935e+04  4.80003487e+02]\n",
      "Bias: -82860.99598865773\n",
      "Error: 2247.014060749732\n"
     ]
    }
   ],
   "source": [
    "from sklearn.metrics import mean_absolute_error\n",
    "\n",
    "X = data[['weight_buyer', 'kg_tomato', 'price_tomato']]\n",
    "y = data['tomato_budjet']\n",
    "reg = LinearRegression().fit(X, y)\n",
    "print('Weights: {}'.format(reg.coef_))\n",
    "print('Bias: {}'.format(reg.intercept_))\n",
    "\n",
    "pred_values = reg.predict(data[['weight_buyer', 'kg_tomato', 'price_tomato']])\n",
    "print('Error: {}'.format(mean_absolute_error(pred_values, y)))"
   ]
  },
  {
   "cell_type": "markdown",
   "metadata": {},
   "source": [
    "Метод линейной регрессии формально определил зависимость и коэффициент -5.6... для веса тела покупателя\n",
    "При этом смещение составляет -1095, что абсолютно не понятно как сформировалось \n",
    "\n",
    "Не линейность связана с тем что бюджет формируется из умножения величин цена и вес случайным образом "
   ]
  },
  {
   "cell_type": "code",
   "execution_count": 25,
   "metadata": {},
   "outputs": [
    {
     "name": "stdout",
     "output_type": "stream",
     "text": [
      "Weights: [13402.38702599   478.61444144]\n",
      "Bias: -83351.23656592597\n",
      "Error: 2245.898128648259\n"
     ]
    }
   ],
   "source": [
    "X = data[['kg_tomato', 'price_tomato']]\n",
    "y = data['tomato_budjet']\n",
    "reg = LinearRegression().fit(X, y)\n",
    "print('Weights: {}'.format(reg.coef_))\n",
    "print('Bias: {}'.format(reg.intercept_))\n",
    "\n",
    "pred_values = reg.predict(data[['kg_tomato', 'price_tomato']])\n",
    "print('Error: {}'.format(mean_absolute_error(pred_values, y)))"
   ]
  },
  {
   "cell_type": "markdown",
   "metadata": {},
   "source": [
    "Даже если убрать явный независимый по начальной генерации показатель - мы убеждаемся в существенной ошибке\n",
    "и неадекватности модели"
   ]
  },
  {
   "cell_type": "code",
   "execution_count": 26,
   "metadata": {},
   "outputs": [
    {
     "data": {
      "text/html": [
       "<div>\n",
       "<style scoped>\n",
       "    .dataframe tbody tr th:only-of-type {\n",
       "        vertical-align: middle;\n",
       "    }\n",
       "\n",
       "    .dataframe tbody tr th {\n",
       "        vertical-align: top;\n",
       "    }\n",
       "\n",
       "    .dataframe thead th {\n",
       "        text-align: right;\n",
       "    }\n",
       "</style>\n",
       "<table border=\"1\" class=\"dataframe\">\n",
       "  <thead>\n",
       "    <tr style=\"text-align: right;\">\n",
       "      <th></th>\n",
       "      <th>weight_buyer</th>\n",
       "      <th>kg_tomato</th>\n",
       "      <th>price_tomato</th>\n",
       "      <th>tomato_budjet</th>\n",
       "      <th>mult</th>\n",
       "    </tr>\n",
       "  </thead>\n",
       "  <tbody>\n",
       "    <tr>\n",
       "      <td>0</td>\n",
       "      <td>117</td>\n",
       "      <td>10</td>\n",
       "      <td>196</td>\n",
       "      <td>150920</td>\n",
       "      <td>1960</td>\n",
       "    </tr>\n",
       "    <tr>\n",
       "      <td>1</td>\n",
       "      <td>139</td>\n",
       "      <td>6</td>\n",
       "      <td>160</td>\n",
       "      <td>73920</td>\n",
       "      <td>960</td>\n",
       "    </tr>\n",
       "    <tr>\n",
       "      <td>2</td>\n",
       "      <td>84</td>\n",
       "      <td>4</td>\n",
       "      <td>174</td>\n",
       "      <td>53592</td>\n",
       "      <td>696</td>\n",
       "    </tr>\n",
       "    <tr>\n",
       "      <td>3</td>\n",
       "      <td>126</td>\n",
       "      <td>7</td>\n",
       "      <td>172</td>\n",
       "      <td>92708</td>\n",
       "      <td>1204</td>\n",
       "    </tr>\n",
       "    <tr>\n",
       "      <td>4</td>\n",
       "      <td>43</td>\n",
       "      <td>3</td>\n",
       "      <td>161</td>\n",
       "      <td>37191</td>\n",
       "      <td>483</td>\n",
       "    </tr>\n",
       "  </tbody>\n",
       "</table>\n",
       "</div>"
      ],
      "text/plain": [
       "   weight_buyer  kg_tomato  price_tomato  tomato_budjet  mult\n",
       "0           117         10           196         150920  1960\n",
       "1           139          6           160          73920   960\n",
       "2            84          4           174          53592   696\n",
       "3           126          7           172          92708  1204\n",
       "4            43          3           161          37191   483"
      ]
     },
     "execution_count": 26,
     "metadata": {},
     "output_type": "execute_result"
    }
   ],
   "source": [
    "# Создаем новый признак\n",
    "data['mult'] = data['kg_tomato'] * data['price_tomato']\n",
    "data.head(5)"
   ]
  },
  {
   "cell_type": "code",
   "execution_count": 27,
   "metadata": {},
   "outputs": [
    {
     "name": "stdout",
     "output_type": "stream",
     "text": [
      "Weights: [77.]\n",
      "Bias: 2.9103830456733704e-11\n",
      "Error: 1.3562384992837907e-11\n"
     ]
    }
   ],
   "source": [
    "X = data[['mult']]\n",
    "y = data['tomato_budjet']\n",
    "reg = LinearRegression().fit(X, y)\n",
    "print('Weights: {}'.format(reg.coef_))\n",
    "print('Bias: {}'.format(reg.intercept_))\n",
    "\n",
    "pred_values = reg.predict(data[['mult']])\n",
    "print('Error: {}'.format(mean_absolute_error(pred_values, y)))"
   ]
  },
  {
   "cell_type": "markdown",
   "metadata": {},
   "source": [
    "При введении нового агрегатного показателя - мы выявлем линейную зависимость и минимальную \n",
    "ошибку с использованием метода линейной регрессии "
   ]
  },
  {
   "cell_type": "code",
   "execution_count": 29,
   "metadata": {},
   "outputs": [
    {
     "name": "stdout",
     "output_type": "stream",
     "text": [
      "Weights: [-8.8173893]\n",
      "Bias: 85614.14175660432\n",
      "Error: 32812.60700064119\n"
     ]
    }
   ],
   "source": [
    "X = data[['weight_buyer']]\n",
    "y = data['tomato_budjet']\n",
    "reg = LinearRegression().fit(X, y)\n",
    "print('Weights: {}'.format(reg.coef_))\n",
    "print('Bias: {}'.format(reg.intercept_))\n",
    "\n",
    "pred_values = reg.predict(data[['weight_buyer']])\n",
    "print('Error: {}'.format(mean_absolute_error(pred_values, y)))"
   ]
  },
  {
   "cell_type": "markdown",
   "metadata": {},
   "source": [
    "ПРотестируем есть ли зависмость на сформированном наборе (а вдруг) веса тела покупателя и бюджета на томаты в месяц\n",
    "Линейная зависимость отсутствует"
   ]
  }
 ],
 "metadata": {
  "kernelspec": {
   "display_name": "Python 3",
   "language": "python",
   "name": "python3"
  },
  "language_info": {
   "codemirror_mode": {
    "name": "ipython",
    "version": 3
   },
   "file_extension": ".py",
   "mimetype": "text/x-python",
   "name": "python",
   "nbconvert_exporter": "python",
   "pygments_lexer": "ipython3",
   "version": "3.7.4"
  }
 },
 "nbformat": 4,
 "nbformat_minor": 2
}
